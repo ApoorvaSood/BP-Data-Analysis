import geopandas
import pandas as pd
import plotly.express as px
import xlrd
import random
import seaborn as sns
import matplotlib.pyplot as plt
import geopandas as gpd
from pandas.plotting import  parallel_coordinates
import plotly.express as px

df = pd.read_excel(r"C:\No Dropbox\Internship\Blood_pressure_data_India_2021_Statewise.xlsx")
df.head()

df = df.iloc[:,:8]
df

df_subset = df[df['Area']=='Total']
df_subset= df_subset.iloc[1: , :];df_subset.head()



df_subset['States/UTs'] = df_subset['States/UTs'].replace(['Andaman & Nicobar Islands'],'Andaman & Nicobar Island')
df_subset['States/UTs'] = df_subset['States/UTs'].replace(['Maharastra'],'Maharashtra')
df_subset['States/UTs'] = df_subset['States/UTs'].replace(['Arunachal Pradesh'],'Arunanchal Pradesh')   
df_subset['States/UTs'] = df_subset['States/UTs'].replace(['Dadra and Nagar Haveli & Daman and Diu'],'Dadara & Nagar Havelli')

TOTAL_4= df_subset.iloc[:, 2:8].mean(axis=1)
len(TOTAL_4)
df_subset['TOTAL_Percentage'] = TOTAL_4

#Importing the shape files to get the outline of the map
shp_gdf = gpd.read_file(r"C:\No Dropbox\Internship\shape file\Indian_states.shp")
shp_gdf.head()

#Merging two datasets
merged = shp_gdf.set_index('st_nm').join(df_subset.set_index('States/UTs'))
merged.head()

merged.dropna()


# Converting Index to columns
merged1 = merged.reset_index()
merged1.head()


#Rounding of the percentage to 2 decimal places
merged1['TOTAL_Percentage']=merged1['TOTAL_Percentage'].round(decimals = 2)

import numpy as np
fig, ax = plt.subplots(1, figsize=(18, 18))
ax.axis('off')
ax.set_title('Statewise Distribution of BP patients (in %) in India',fontdict={'fontsize': '15', 'fontweight' : '3'})
fig1 = merged1.plot(column='TOTAL_Percentage', cmap='gist_heat_r', linewidth=0.5, ax=ax, edgecolor='0.2',legend=True)
for idx, row in merged1.iterrows():
    if not np.isnan(row['TOTAL_Percentage']):
        plt.annotate(s=row['TOTAL_Percentage'], xy=row['coords'], horizontalalignment='center', color='white')
plt.savefig("MAP.jpg")

merged1['coords'] = merged1['geometry'].apply(lambda x: x.representative_point().coords[:])
merged1['coords'] = [coords[0] for coords in merged1['coords']]
fig, ax = plt.subplots(figsize = (15,15))
merged1.plot(ax=ax, color='beige', edgecolor='black')
for idx, row in merged1.iterrows():
   plt.annotate(s=row['TOTAL_Percentage'], xy=row['coords'], horizontalalignment='center', color='blue')
   
#Parallel coordinate plot
#Again import the dataset
df = pd.read_csv(r"C:\No Dropbox\Internship\urban and rural.csv")
df.head() 


d = df[['Women_mildly elevated BP','Men_mildly elevated BP','Women_moderately elevated BP','Men_moderately elevated BP','Women_elevated BP','Men_elevated BP','Area']]
plt.figure(figsize= (15,9))
parallel_coordinates(d, "Area",colormap=plt.get_cmap("Set3"))
plt.title("Percentage of Men & Women with different levels of Blood Pressure in Urban and Rural areas")
plt.show
plt.savefig ("Parallel plot.jpg")
